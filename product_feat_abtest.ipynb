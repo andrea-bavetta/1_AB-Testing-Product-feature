{
 "cells": [
  {
   "cell_type": "markdown",
   "metadata": {},
   "source": [
    "## Product feature A/B Testing"
   ]
  },
  {
   "cell_type": "markdown",
   "metadata": {},
   "source": [
    "### Introduction\n",
    "\n",
    "I am a Product Data Analyst, working for an online store. I just came out from a meeting where it emerged that the overall conversion rate is 2.8%, which is not bad, but it could be improved by reducing attrition (that is, reducing drop-offs) in the checkout funnel. \n",
    "My first objective is to identify a problematic step (in terms of customers’ drop-off) in the conversion funnel; I will analyse the data via Google Analytics. The product manager and the design team will then propose a redesign of a feature in that web-page. \n",
    "Once the redesign is completed and the new feature has been implemented by the web development team and is ready to go live into production, my second task will be to design an experiment (an AB test) that will allow us to measure statistically (via hypothesis testing) whether the new feature is actually improving the funnel conversion rate or not."
   ]
  },
  {
   "cell_type": "markdown",
   "metadata": {},
   "source": [
    "### Google Analytics\n",
    "\n",
    "By using Google Analytics I am able to check if any problematic steps occurs during the customer path towards purchase.\n",
    "\n",
    "![alt text](GA_funnel.png \"Funnel\")\n",
    "\n",
    "In this example I do see that only 12% of the customers add payment info and proceed with the next step. We need to address this for example by adding as method of payment Paypal, which will result in maybe a smoother payment process.\n",
    "We will lead 50% of the merch store traffic to a page with the new feature and the other half with the current one."
   ]
  },
  {
   "cell_type": "markdown",
   "metadata": {},
   "source": [
    "\n",
    "### Python\n",
    "\n",
    "I need to import all the necessary libraries first:"
   ]
  },
  {
   "cell_type": "code",
   "execution_count": 2,
   "metadata": {},
   "outputs": [],
   "source": [
    "import numpy as np\n",
    "import pandas as pd\n",
    "import matplotlib.pyplot as plt\n",
    "import seaborn as sns\n",
    "sns.set_theme()"
   ]
  },
  {
   "cell_type": "markdown",
   "metadata": {},
   "source": [
    "I simulate my unique visitors as a binomial distribution with two different probabilities.\n",
    "The sample size has been calculated with the following paramenters:\n",
    "\n",
    "![alt text](Sample_size.png \"Sample size for test and control groups\")"
   ]
  },
  {
   "cell_type": "code",
   "execution_count": 3,
   "metadata": {},
   "outputs": [],
   "source": [
    "np.random.seed(42)\n",
    "control = np.random.binomial(n=1, p=0.028, size=20000)\n",
    "test = np.random.binomial(n=1, p=0.035, size=20000)"
   ]
  },
  {
   "cell_type": "markdown",
   "metadata": {},
   "source": [
    "I want to check numerically how many conversion we obtained in each group. Namely:"
   ]
  },
  {
   "cell_type": "code",
   "execution_count": 4,
   "metadata": {},
   "outputs": [
    {
     "data": {
      "text/plain": [
       "group    converted\n",
       "control  0            19450\n",
       "         1              550\n",
       "dtype: int64"
      ]
     },
     "execution_count": 4,
     "metadata": {},
     "output_type": "execute_result"
    }
   ],
   "source": [
    "df_control = pd.DataFrame({'group': 'control', 'converted': control})\n",
    "df_control.value_counts()"
   ]
  },
  {
   "cell_type": "code",
   "execution_count": 5,
   "metadata": {},
   "outputs": [
    {
     "data": {
      "text/plain": [
       "group  converted\n",
       "test   0            19302\n",
       "       1              698\n",
       "dtype: int64"
      ]
     },
     "execution_count": 5,
     "metadata": {},
     "output_type": "execute_result"
    }
   ],
   "source": [
    "df_test = pd.DataFrame({'group': 'test', 'converted': test})\n",
    "df_test.value_counts()"
   ]
  },
  {
   "cell_type": "markdown",
   "metadata": {},
   "source": [
    "Test statistic in this case is defined as the difference between means of the two groups conversions."
   ]
  },
  {
   "cell_type": "code",
   "execution_count": 6,
   "metadata": {},
   "outputs": [],
   "source": [
    "mean_test = np.mean(df_test.converted)\n",
    "mean_control = np.mean(df_control.converted)\n",
    "mu_diff = mean_test - mean_control"
   ]
  },
  {
   "cell_type": "code",
   "execution_count": 7,
   "metadata": {},
   "outputs": [
    {
     "name": "stdout",
     "output_type": "stream",
     "text": [
      "mean test:\t0.0349\n",
      "mean control:\t0.0275\n",
      "mu_diff:\t0.0074\n"
     ]
    }
   ],
   "source": [
    "print(f\"mean test:\\t{np.mean(df_test.converted)}\\nmean control:\\t{np.mean(df_control.converted)}\\nmu_diff:\\t{np.mean(df_test.converted)-np.mean(df_control.converted)}\")"
   ]
  },
  {
   "cell_type": "markdown",
   "metadata": {},
   "source": [
    "![alt text](Hypothesis_Test.png \"Hypothesis Test\")"
   ]
  },
  {
   "cell_type": "markdown",
   "metadata": {},
   "source": [
    "I merge now the two datasets together in order to run the Permutation test."
   ]
  },
  {
   "cell_type": "code",
   "execution_count": 8,
   "metadata": {},
   "outputs": [
    {
     "data": {
      "text/html": [
       "<div>\n",
       "<style scoped>\n",
       "    .dataframe tbody tr th:only-of-type {\n",
       "        vertical-align: middle;\n",
       "    }\n",
       "\n",
       "    .dataframe tbody tr th {\n",
       "        vertical-align: top;\n",
       "    }\n",
       "\n",
       "    .dataframe thead th {\n",
       "        text-align: right;\n",
       "    }\n",
       "</style>\n",
       "<table border=\"1\" class=\"dataframe\">\n",
       "  <thead>\n",
       "    <tr style=\"text-align: right;\">\n",
       "      <th></th>\n",
       "      <th>group</th>\n",
       "      <th>converted</th>\n",
       "    </tr>\n",
       "  </thead>\n",
       "  <tbody>\n",
       "    <tr>\n",
       "      <th>0</th>\n",
       "      <td>test</td>\n",
       "      <td>0</td>\n",
       "    </tr>\n",
       "    <tr>\n",
       "      <th>1</th>\n",
       "      <td>test</td>\n",
       "      <td>0</td>\n",
       "    </tr>\n",
       "    <tr>\n",
       "      <th>2</th>\n",
       "      <td>control</td>\n",
       "      <td>0</td>\n",
       "    </tr>\n",
       "    <tr>\n",
       "      <th>3</th>\n",
       "      <td>control</td>\n",
       "      <td>0</td>\n",
       "    </tr>\n",
       "    <tr>\n",
       "      <th>4</th>\n",
       "      <td>test</td>\n",
       "      <td>0</td>\n",
       "    </tr>\n",
       "    <tr>\n",
       "      <th>5</th>\n",
       "      <td>control</td>\n",
       "      <td>0</td>\n",
       "    </tr>\n",
       "    <tr>\n",
       "      <th>6</th>\n",
       "      <td>test</td>\n",
       "      <td>0</td>\n",
       "    </tr>\n",
       "    <tr>\n",
       "      <th>7</th>\n",
       "      <td>test</td>\n",
       "      <td>0</td>\n",
       "    </tr>\n",
       "    <tr>\n",
       "      <th>8</th>\n",
       "      <td>test</td>\n",
       "      <td>0</td>\n",
       "    </tr>\n",
       "    <tr>\n",
       "      <th>9</th>\n",
       "      <td>test</td>\n",
       "      <td>0</td>\n",
       "    </tr>\n",
       "  </tbody>\n",
       "</table>\n",
       "</div>"
      ],
      "text/plain": [
       "     group  converted\n",
       "0     test          0\n",
       "1     test          0\n",
       "2  control          0\n",
       "3  control          0\n",
       "4     test          0\n",
       "5  control          0\n",
       "6     test          0\n",
       "7     test          0\n",
       "8     test          0\n",
       "9     test          0"
      ]
     },
     "execution_count": 8,
     "metadata": {},
     "output_type": "execute_result"
    }
   ],
   "source": [
    "df = pd.concat([df_control,df_test]).sample(frac=1).reset_index(drop=True)\n",
    "df.head(10)"
   ]
  },
  {
   "cell_type": "markdown",
   "metadata": {},
   "source": [
    "I will first try to do permutation by using the Scipy library and then check the result with an algorithm on mine. If the two results end up to be consistent with each other I will be more confident about the A|B test results."
   ]
  },
  {
   "cell_type": "code",
   "execution_count": 9,
   "metadata": {},
   "outputs": [
    {
     "name": "stdout",
     "output_type": "stream",
     "text": [
      "Observed test-statistic:\t0.0074\n",
      "p-value:\t\t\t0.009999000099990002%\n"
     ]
    }
   ],
   "source": [
    "from scipy.stats import permutation_test\n",
    "\n",
    "n = 10000\n",
    "\n",
    "def statistic(x, y, axis):\n",
    "    return np.mean(x, axis=axis) - np.mean(y,axis=axis)\n",
    "\n",
    "res = permutation_test((df_test.converted, df_control.converted), statistic, vectorized=True, n_resamples=n, alternative='greater', random_state=42)\n",
    "\n",
    "print(f\"Observed test-statistic:\\t{res.statistic}\")\n",
    "print(f\"p-value:\\t\\t\\t{res.pvalue*100}%\")"
   ]
  },
  {
   "cell_type": "code",
   "execution_count": 24,
   "metadata": {},
   "outputs": [
    {
     "data": {
      "image/png": "[encoded data removed]",
      "text/plain": [
       "<Figure size 640x480 with 1 Axes>"
      ]
     },
     "metadata": {},
     "output_type": "display_data"
    }
   ],
   "source": [
    "sns.histplot(res.null_distribution, bins=30, kde=True)\n",
    "plt.title(\"Permutation distribution\")\n",
    "plt.xlabel(r'$\\mu_{diff}$')\n",
    "plt.ylabel(\"Frequency\")\n",
    "plt.axvline(res.statistic, 0, 1, color='r', linestyle='--')\n",
    "plt.show()"
   ]
  },
  {
   "cell_type": "code",
   "execution_count": 27,
   "metadata": {},
   "outputs": [],
   "source": [
    "#PERMUTATION TEST - PERSONAL ALGORITHM\n",
    "\n",
    "mu_diff_samples = []\n",
    "# I select a subset of my dataset containing only poultry and fish data\n",
    "df_temp = df\n",
    "# Starting the permutations to collect the u_diff for each samples\n",
    "for i in range(n):\n",
    "    # extract a subsample of 50% of data without replacement\n",
    "    df_sample1 = df_temp.sample(frac=0.5, replace=False)\n",
    "    # use set() to get indexes of rows that were not extracted from df in previous step\n",
    "    ix2 = set(df_temp.index) - set(df_sample1.index) # create dataframe with other 50% of data\n",
    "    df_sample2 = df_temp.iloc[list(ix2)]\n",
    "    # calculate difference in mean from each sample\n",
    "    mu_diff_temp = np.mean(df_sample1.converted) - np.mean(df_sample2.converted)\n",
    "    # append sampled mean difference to mu_diff_samples list\n",
    "    mu_diff_samples.append(mu_diff_temp)"
   ]
  },
  {
   "cell_type": "code",
   "execution_count": 26,
   "metadata": {},
   "outputs": [
    {
     "data": {
      "image/png": "[encoded data removed]",
      "text/plain": [
       "<Figure size 640x480 with 1 Axes>"
      ]
     },
     "metadata": {},
     "output_type": "display_data"
    }
   ],
   "source": [
    "#plot del calcolo manuale\n",
    "sns.histplot(mu_diff_samples, kde=True, bins=30)\n",
    "plt.axvline(mu_diff, 0, 1, color='r', linestyle='--')\n",
    "plt.xlabel(r'$\\mu_{diff}$')\n",
    "plt.ylabel('Frequency')\n",
    "plt.title('Permutation distribution (manual)')\n",
    "plt.show()"
   ]
  },
  {
   "cell_type": "code",
   "execution_count": 13,
   "metadata": {},
   "outputs": [
    {
     "name": "stdout",
     "output_type": "stream",
     "text": [
      "Values more extreme than observed: 0\n",
      "p-value: 0.0 %\n"
     ]
    }
   ],
   "source": [
    "print('Values more extreme than observed:', sum([el > mu_diff for el in mu_diff_samples]))\n",
    "p_value = sum([el > mu_diff for el in mu_diff_samples])/n\n",
    "print('p-value:', p_value*100, \"%\")"
   ]
  },
  {
   "cell_type": "markdown",
   "metadata": {},
   "source": [
    "It seems that both algorithms end up with a p-value < $\\alpha$.\n",
    "I save the results in a new dataframe in order to export it as csv in case of further need outside the notebook."
   ]
  },
  {
   "cell_type": "code",
   "execution_count": 14,
   "metadata": {},
   "outputs": [
    {
     "data": {
      "text/html": [
       "<div>\n",
       "<style scoped>\n",
       "    .dataframe tbody tr th:only-of-type {\n",
       "        vertical-align: middle;\n",
       "    }\n",
       "\n",
       "    .dataframe tbody tr th {\n",
       "        vertical-align: top;\n",
       "    }\n",
       "\n",
       "    .dataframe thead th {\n",
       "        text-align: right;\n",
       "    }\n",
       "</style>\n",
       "<table border=\"1\" class=\"dataframe\">\n",
       "  <thead>\n",
       "    <tr style=\"text-align: right;\">\n",
       "      <th></th>\n",
       "      <th>0</th>\n",
       "    </tr>\n",
       "  </thead>\n",
       "  <tbody>\n",
       "    <tr>\n",
       "      <th>0</th>\n",
       "      <td>-0.0018</td>\n",
       "    </tr>\n",
       "    <tr>\n",
       "      <th>1</th>\n",
       "      <td>-0.0008</td>\n",
       "    </tr>\n",
       "    <tr>\n",
       "      <th>2</th>\n",
       "      <td>0.0031</td>\n",
       "    </tr>\n",
       "    <tr>\n",
       "      <th>3</th>\n",
       "      <td>-0.0007</td>\n",
       "    </tr>\n",
       "    <tr>\n",
       "      <th>4</th>\n",
       "      <td>0.0007</td>\n",
       "    </tr>\n",
       "    <tr>\n",
       "      <th>...</th>\n",
       "      <td>...</td>\n",
       "    </tr>\n",
       "    <tr>\n",
       "      <th>9995</th>\n",
       "      <td>0.0039</td>\n",
       "    </tr>\n",
       "    <tr>\n",
       "      <th>9996</th>\n",
       "      <td>0.0021</td>\n",
       "    </tr>\n",
       "    <tr>\n",
       "      <th>9997</th>\n",
       "      <td>0.0001</td>\n",
       "    </tr>\n",
       "    <tr>\n",
       "      <th>9998</th>\n",
       "      <td>-0.0016</td>\n",
       "    </tr>\n",
       "    <tr>\n",
       "      <th>9999</th>\n",
       "      <td>-0.0014</td>\n",
       "    </tr>\n",
       "  </tbody>\n",
       "</table>\n",
       "<p>10000 rows × 1 columns</p>\n",
       "</div>"
      ],
      "text/plain": [
       "           0\n",
       "0    -0.0018\n",
       "1    -0.0008\n",
       "2     0.0031\n",
       "3    -0.0007\n",
       "4     0.0007\n",
       "...      ...\n",
       "9995  0.0039\n",
       "9996  0.0021\n",
       "9997  0.0001\n",
       "9998 -0.0016\n",
       "9999 -0.0014\n",
       "\n",
       "[10000 rows x 1 columns]"
      ]
     },
     "execution_count": 14,
     "metadata": {},
     "output_type": "execute_result"
    }
   ],
   "source": [
    "df_mu_diff = pd.DataFrame(mu_diff_samples)\n",
    "df_mu_diff"
   ]
  },
  {
   "cell_type": "code",
   "execution_count": 15,
   "metadata": {},
   "outputs": [],
   "source": [
    "df_mu_diff.to_csv('df_mu_diff.csv')"
   ]
  },
  {
   "cell_type": "markdown",
   "metadata": {},
   "source": [
    "### Results\n",
    "\n",
    "The results of the A|B test seems to confirm that the difference that occurred in the average conversion rates between Test and Control groups is statistically significant. We have then the 0.009% probabilty that this has been the result of random events. Very low indeed. We then reject the null hypothesis H0 and welcome the alternative H1.\n",
    "We should then implement globally the new feature so that we do not loose further conversions from customers."
   ]
  }
 ],
 "metadata": {
  "kernelspec": {
   "display_name": "boolean",
   "language": "python",
   "name": "python3"
  },
  "language_info": {
   "codemirror_mode": {
    "name": "ipython",
    "version": 3
   },
   "file_extension": ".py",
   "mimetype": "text/x-python",
   "name": "python",
   "nbconvert_exporter": "python",
   "pygments_lexer": "ipython3",
   "version": "3.11.3"
  },
  "orig_nbformat": 4
 },
 "nbformat": 4,
 "nbformat_minor": 2
}
